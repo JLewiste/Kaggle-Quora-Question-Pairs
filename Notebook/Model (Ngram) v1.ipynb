{
 "cells": [
  {
   "cell_type": "code",
   "execution_count": 1,
   "metadata": {
    "collapsed": false
   },
   "outputs": [],
   "source": [
    "import numpy as np\n",
    "import pandas as pd\n",
    "import matplotlib.pyplot as plt\n",
    "import seaborn as sns\n",
    "\n",
    "import nltk\n",
    "from nltk import ngrams, word_tokenize\n",
    "from nltk.corpus import stopwords\n",
    "\n",
    "%matplotlib inline\n",
    "\n",
    "# cross validation \n",
    "# from sklearn.model_selection import train_test_split, KFold, cross_val_score\n",
    "from sklearn.cross_validation import train_test_split, KFold, cross_val_score\n",
    "\n",
    "# hyper-parameter tuning\n",
    "from sklearn.grid_search import GridSearchCV\n",
    "\n",
    "# preprocessing\n",
    "from sklearn.preprocessing import StandardScaler, Normalizer, LabelEncoder, OneHotEncoder\n",
    "\n",
    "# linear models\n",
    "from sklearn.linear_model import LogisticRegression\n",
    "from sklearn.discriminant_analysis import LinearDiscriminantAnalysis\n",
    "\n",
    "# non-linear models\n",
    "from sklearn.tree import DecisionTreeClassifier\n",
    "from sklearn.neighbors import KNeighborsClassifier\n",
    "from sklearn.naive_bayes import GaussianNB\n",
    "from sklearn.svm import SVC\n",
    "\n",
    "# ensemble models\n",
    "from sklearn.ensemble import RandomForestClassifier, ExtraTreesClassifier, AdaBoostClassifier, GradientBoostingClassifier\n",
    "\n",
    "# pipeline\n",
    "from sklearn.pipeline import Pipeline\n",
    "\n",
    "# confusion matrix\n",
    "from sklearn.metrics import confusion_matrix, precision_recall_curve,auc, roc_auc_score, roc_curve, recall_score, classification_report"
   ]
  },
  {
   "cell_type": "markdown",
   "metadata": {},
   "source": [
    "# Load training and testing set"
   ]
  },
  {
   "cell_type": "code",
   "execution_count": 2,
   "metadata": {
    "collapsed": true
   },
   "outputs": [],
   "source": [
    "train_data = pd.read_csv(\"../Dataset/train.csv\")\n",
    "test_data = pd.read_csv(\"../Dataset/test.csv\")"
   ]
  },
  {
   "cell_type": "markdown",
   "metadata": {},
   "source": [
    "# Define stopwords"
   ]
  },
  {
   "cell_type": "code",
   "execution_count": 3,
   "metadata": {
    "collapsed": true
   },
   "outputs": [],
   "source": [
    "stop = set(stopwords.words('english'))"
   ]
  },
  {
   "cell_type": "markdown",
   "metadata": {},
   "source": [
    "# Construct ngram model"
   ]
  },
  {
   "cell_type": "markdown",
   "metadata": {},
   "source": [
    "Common unigrams, bigrams and trigrams are good at differentiating the two classes."
   ]
  },
  {
   "cell_type": "code",
   "execution_count": 4,
   "metadata": {
    "collapsed": true
   },
   "outputs": [],
   "source": [
    "def feature_engineering(row):\n",
    "    ngram_list = []\n",
    "    \n",
    "    question1 = str(row['question1'])\n",
    "    question2 = str(row['question2'])\n",
    "    \n",
    "    # split question1 and question2 into words, and remove stopwords\n",
    "    preproc_question1 = [word for word in question1.lower().split() if word not in stop]\n",
    "    preproc_question2 = [word for word in question2.lower().split() if word not in stop]\n",
    "    \n",
    "    # obtain unigram features\n",
    "    common_unigrams_len = len(set(preproc_question1).intersection(set(preproc_question2)))\n",
    "    common_unigrams_ratio = float(common_unigrams_len) / max(len(set(preproc_question1).union(set(preproc_question2))),1)\n",
    "    ngram_list.extend([common_unigrams_len, common_unigrams_ratio])\n",
    "\n",
    "    # obtain bigram features \n",
    "    bigrams_question1 = [i for i in ngrams(preproc_question1, 2)]\n",
    "    bigrams_question2 = [i for i in ngrams(preproc_question2, 2)]\n",
    "    common_bigrams_len = len(set(bigrams_question1).intersection(set(bigrams_question2)))\n",
    "    common_bigrams_ratio = float(common_bigrams_len) / max(len(set(bigrams_question1).union(set(bigrams_question2))),1)\n",
    "    ngram_list.extend([common_bigrams_len, common_bigrams_ratio])\n",
    "\n",
    "    # obtain trigram features \n",
    "    trigrams_question1 = [i for i in ngrams(preproc_question1, 3)]\n",
    "    trigrams_question2 = [i for i in ngrams(preproc_question2, 3)]\n",
    "    common_trigrams_len = len(set(trigrams_question1).intersection(set(trigrams_question2)))\n",
    "    common_trigrams_ratio = float(common_trigrams_len) / max(len(set(trigrams_question1).union(set(trigrams_question2))),1)\n",
    "    ngram_list.extend([common_trigrams_len, common_trigrams_ratio])\n",
    "\n",
    "    return ngram_list"
   ]
  },
  {
   "cell_type": "code",
   "execution_count": 5,
   "metadata": {
    "collapsed": false
   },
   "outputs": [],
   "source": [
    "train_features = np.vstack(np.array(train_data.apply(lambda x: feature_engineering(x), axis=1))) \n",
    "test_features = np.vstack(np.array(test_data.apply(lambda x: feature_engineering(x), axis=1)))\n",
    "\n",
    "train_target = np.array(train_data[\"is_duplicate\"])\n",
    "test_id = np.array(test_data[\"test_id\"])"
   ]
  },
  {
   "cell_type": "code",
   "execution_count": 6,
   "metadata": {
    "collapsed": true
   },
   "outputs": [],
   "source": [
    "X_train = train_features\n",
    "X_test = test_features\n",
    "\n",
    "y_train = train_target"
   ]
  },
  {
   "cell_type": "code",
   "execution_count": 6,
   "metadata": {
    "collapsed": true
   },
   "outputs": [],
   "source": [
    "# # split under-sampled data into training and testing\n",
    "# X_train, X_test, y_train, y_test = train_test_split(train_features, train_target, test_size=0.3)"
   ]
  },
  {
   "cell_type": "code",
   "execution_count": 7,
   "metadata": {
    "collapsed": false,
    "scrolled": true
   },
   "outputs": [
    {
     "name": "stdout",
     "output_type": "stream",
     "text": [
      "LR: -0.537023 (0.002717)\n",
      "LDA: -0.537487 (0.002884)\n",
      "KNN: -1.382656 (0.230799)\n",
      "CART: -0.573276 (0.016412)\n",
      "NB: -1.059884 (0.015733)\n"
     ]
    }
   ],
   "source": [
    "# Test options and evaluation metric\n",
    "num_folds = 10\n",
    "scoring = \"log_loss\"\n",
    "\n",
    "# linear and non-linear algorithms\n",
    "models = []\n",
    "models.append((\"LR\", LogisticRegression()))\n",
    "models.append((\"LDA\", LinearDiscriminantAnalysis()))\n",
    "models.append((\"KNN\", KNeighborsClassifier()))\n",
    "models.append((\"CART\", DecisionTreeClassifier()))\n",
    "models.append((\"NB\", GaussianNB()))\n",
    "# models.append((\"SVM\", SVC()))\n",
    "\n",
    "# evaluate each model in turn\n",
    "results = []\n",
    "names = []\n",
    "\n",
    "for name, model in models:\n",
    "#   kfold = KFold(n_splits=num_folds, random_state=666)\n",
    "  kfold = KFold(X_train.shape[0], 10, random_state=666)\n",
    "  cv_results = cross_val_score(model, X_train, y_train, cv=kfold, scoring=scoring, n_jobs=-1)\n",
    "  results.append(cv_results)\n",
    "  names.append(name)\n",
    "  msg = \"%s: %f (%f)\" % (name, cv_results.mean(), cv_results.std())\n",
    "  print(msg)"
   ]
  },
  {
   "cell_type": "code",
   "execution_count": 8,
   "metadata": {
    "collapsed": false
   },
   "outputs": [
    {
     "data": {
      "image/png": "[encoded data removed]",
      "text/plain": [
       "<matplotlib.figure.Figure at 0x13b33cb90>"
      ]
     },
     "metadata": {},
     "output_type": "display_data"
    }
   ],
   "source": [
    "# Compare Algorithms\n",
    "fig = plt.figure(figsize=(15, 8))\n",
    "fig.suptitle(\"Algorithm Comparison\")\n",
    "ax = fig.add_subplot(111)\n",
    "plt.boxplot(results)\n",
    "ax.set_xticklabels(names)\n",
    "plt.show()"
   ]
  },
  {
   "cell_type": "code",
   "execution_count": 10,
   "metadata": {
    "collapsed": false
   },
   "outputs": [
    {
     "name": "stdout",
     "output_type": "stream",
     "text": [
      "AB: -0.674655 (0.000146)\n",
      "GBM: -0.453907 (0.002437)\n",
      "RF: -0.483366 (0.008626)\n",
      "ET: -0.526188 (0.010144)\n"
     ]
    }
   ],
   "source": [
    "# ensembles\n",
    "ensembles = []\n",
    "ensembles.append((\"AB\", AdaBoostClassifier()))\n",
    "ensembles.append((\"GBM\", GradientBoostingClassifier()))\n",
    "ensembles.append((\"RF\", RandomForestClassifier()))\n",
    "ensembles.append((\"ET\", ExtraTreesClassifier()))\n",
    "\n",
    "results = []\n",
    "names = []\n",
    "\n",
    "for name, model in ensembles:\n",
    "#   kfold = KFold(n_splits=num_folds, random_state=666)\n",
    "  kfold = KFold(X_train.shape[0], 10, random_state=666)\n",
    "  cv_results = cross_val_score(model, X_train, y_train, cv=kfold, scoring=scoring, n_jobs=-1)\n",
    "  results.append(cv_results)\n",
    "  names.append(name)\n",
    "  msg = \"%s: %f (%f)\" % (name, cv_results.mean(), cv_results.std())\n",
    "  print(msg)"
   ]
  },
  {
   "cell_type": "code",
   "execution_count": 11,
   "metadata": {
    "collapsed": false
   },
   "outputs": [
    {
     "data": {
      "image/png": "[encoded data removed]",
      "text/plain": [
       "<matplotlib.figure.Figure at 0x142ce7390>"
      ]
     },
     "metadata": {},
     "output_type": "display_data"
    }
   ],
   "source": [
    "# Compare Algorithms\n",
    "fig = plt.figure(figsize=(15, 8))\n",
    "fig.suptitle(\"Algorithm Comparison\")\n",
    "ax = fig.add_subplot(111)\n",
    "plt.boxplot(results)\n",
    "ax.set_xticklabels(names)\n",
    "plt.show()"
   ]
  },
  {
   "cell_type": "markdown",
   "metadata": {},
   "source": [
    "# Hyperparameter tuning via GridSearchCV"
   ]
  },
  {
   "cell_type": "code",
   "execution_count": 8,
   "metadata": {
    "collapsed": false
   },
   "outputs": [
    {
     "name": "stdout",
     "output_type": "stream",
     "text": [
      "Fitting 10 folds for each of 18 candidates, totalling 180 fits\n"
     ]
    },
    {
     "name": "stderr",
     "output_type": "stream",
     "text": [
      "[Parallel(n_jobs=-1)]: Done  34 tasks      | elapsed:  5.5min\n",
      "[Parallel(n_jobs=-1)]: Done 180 out of 180 | elapsed: 41.2min finished\n"
     ]
    },
    {
     "name": "stdout",
     "output_type": "stream",
     "text": [
      "Best: -0.450982 using {'n_estimators': 200, 'learning_rate': 0.1, 'max_depth': 5}\n"
     ]
    }
   ],
   "source": [
    "# tune gradient boosting classifier\n",
    "learning_rate_values = [0.1, 0.01]\n",
    "n_estimators_values = [100, 150, 200]\n",
    "max_depth_values = [3, 4, 5]\n",
    "\n",
    "# Best: -0.450982 using {'n_estimators': 200, 'learning_rate': 0.1, 'max_depth': 5}\n",
    "\n",
    "scoring = \"log_loss\"\n",
    "\n",
    "param_grid = dict(learning_rate=learning_rate_values, \n",
    "                  n_estimators=n_estimators_values, \n",
    "                  max_depth=max_depth_values)\n",
    "\n",
    "model = GradientBoostingClassifier()\n",
    "\n",
    "grid = GridSearchCV(estimator=model, param_grid=param_grid, scoring=scoring, cv=10, verbose=1, n_jobs=-1)\n",
    "grid_result = grid.fit(X_train, y_train)\n",
    "\n",
    "print(\"Best: %f using %s\" % (grid_result.best_score_, grid_result.best_params_))"
   ]
  },
  {
   "cell_type": "markdown",
   "metadata": {},
   "source": [
    "# Submission to Kaggle"
   ]
  },
  {
   "cell_type": "code",
   "execution_count": 10,
   "metadata": {
    "collapsed": false
   },
   "outputs": [],
   "source": [
    "prediction = grid_result.predict(X_test)"
   ]
  },
  {
   "cell_type": "code",
   "execution_count": 11,
   "metadata": {
    "collapsed": true
   },
   "outputs": [],
   "source": [
    "out_df = pd.DataFrame({\"test_id\":test_id, \"is_duplicate\":prediction})\n",
    "out_df.to_csv(\"ngram_model_v1.csv\", index=False)"
   ]
  }
 ],
 "metadata": {
  "kernelspec": {
   "display_name": "Python 2",
   "language": "python",
   "name": "python2"
  },
  "language_info": {
   "codemirror_mode": {
    "name": "ipython",
    "version": 2
   },
   "file_extension": ".py",
   "mimetype": "text/x-python",
   "name": "python",
   "nbconvert_exporter": "python",
   "pygments_lexer": "ipython2",
   "version": "2.7.13"
  }
 },
 "nbformat": 4,
 "nbformat_minor": 2
}
